{
 "cells": [
  {
   "cell_type": "code",
   "execution_count": null,
   "id": "c6bff4e0-1290-431c-89b2-9009852190a2",
   "metadata": {},
   "outputs": [],
   "source": [
    "SELECT EMP.ENAME, D.DNAME, EMP.SAL FROM EMP \n",
    "JOIN DEPT D ON EMP.DEPTNO = D.DEPTNO\n",
    "WHERE EMP.SAL BETWEEN 1000 AND 2000;"
   ]
  },
  {
   "cell_type": "code",
   "execution_count": null,
   "id": "b717a5e4-9659-4d13-9577-1885b2750f09",
   "metadata": {},
   "outputs": [],
   "source": [
    "SELECT DISTINCT DNAME\n",
    "FROM DEPT"
   ]
  },
  {
   "cell_type": "code",
   "execution_count": null,
   "id": "59ec7f39-249f-4d0f-a888-aa2c602ae7d6",
   "metadata": {},
   "outputs": [],
   "source": [
    "SELECT DISTINCT *\n",
    "FROM EMP\n",
    "WHERE EMP.DEPTNO IN (10,30);"
   ]
  },
  {
   "cell_type": "code",
   "execution_count": null,
   "id": "327f7b7b-7c71-4cf7-9cd1-d574a0824780",
   "metadata": {},
   "outputs": [],
   "source": [
    "SELECT *\n",
    "FROM EMP\n",
    "WHERE EXTRACT(YEAR FROM HIREDATE) = 1982;"
   ]
  },
  {
   "cell_type": "code",
   "execution_count": null,
   "id": "775fb9e6-b004-407f-a937-12bb8622ff17",
   "metadata": {},
   "outputs": [],
   "source": [
    "SELECT ENAME\n",
    "FROM EMP\n",
    "WHERE ENAME LIKE '%LL%' OR ENAME LIKE '%TH%';"
   ]
  },
  {
   "cell_type": "code",
   "execution_count": null,
   "id": "4906b741-2cde-457b-b36b-c9f8799ac898",
   "metadata": {},
   "outputs": [],
   "source": [
    "SELECT DNAME, DEPTNO\n",
    "FROM DEPT\n",
    "ORDER BY DNAME"
   ]
  },
  {
   "cell_type": "code",
   "execution_count": null,
   "id": "cf7f70b8-10ae-4a8d-abf8-d2b4bdc2564b",
   "metadata": {},
   "outputs": [],
   "source": [
    "SELECT ENAME, JOB, SAL, COMM\n",
    "FROM EMP\n",
    "WHERE MGR IS NULL"
   ]
  },
  {
   "cell_type": "code",
   "execution_count": null,
   "id": "d568555a-fa80-4f50-a874-ad23dba96a08",
   "metadata": {},
   "outputs": [],
   "source": [
    "SELECT *\n",
    "    \n",
    "FROM EMP\n",
    "WHERE JOB = 'SALESMAN'\n",
    "ORDER BY (COMM / SAL)DESC"
   ]
  }
 ],
 "metadata": {
  "kernelspec": {
   "display_name": "Python 3 (ipykernel)",
   "language": "python",
   "name": "python3"
  },
  "language_info": {
   "codemirror_mode": {
    "name": "ipython",
    "version": 3
   },
   "file_extension": ".py",
   "mimetype": "text/x-python",
   "name": "python",
   "nbconvert_exporter": "python",
   "pygments_lexer": "ipython3",
   "version": "3.10.12"
  }
 },
 "nbformat": 4,
 "nbformat_minor": 5
}
